{
 "cells": [
  {
   "cell_type": "code",
   "execution_count": 16,
   "id": "30eb8590",
   "metadata": {
    "scrolled": true
   },
   "outputs": [],
   "source": [
    "import os, os.path\n",
    "import random\n",
    "from time import sleep\n",
    "import cv2\n",
    "import numpy as np\n",
    "import matplotlib.pyplot as plt\n",
    "from sklearn.model_selection import train_test_split\n",
    "from tensorflow import keras\n",
    "from tensorflow.keras.layers import Conv2D, MaxPooling2D, Dense, Flatten, Dropout, BatchNormalization"
   ]
  },
  {
   "cell_type": "code",
   "execution_count": 17,
   "id": "8aa7c7d5",
   "metadata": {},
   "outputs": [],
   "source": [
    "path_e46 = 'C:\\\\Users\\\\mnaca\\\\Desktop\\\\BMW_3_e46'\n",
    "path_f30 = 'C:\\\\Users\\\\mnaca\\\\Desktop\\\\BMW_3_f30'\n"
   ]
  },
  {
   "cell_type": "code",
   "execution_count": 21,
   "id": "ef1f9685",
   "metadata": {},
   "outputs": [],
   "source": [
    "class IMG_ACT():\n",
    "    \n",
    "    def __init__(self, *args):\n",
    "        self.path = args\n",
    "        self.__x = 460\n",
    "        self.__y = 320\n",
    "        self.__bmw_data = []\n",
    "    \n",
    "        \n",
    "    def img_redact(self, img):\n",
    "        img = cv2.imread(img)\n",
    "        img = cv2.resize(img, (self.__x, self.__y))         #size based on data\n",
    "        img = cv2.cvtColor(img, cv2.COLOR_BGR2GRAY)\n",
    "        return img\n",
    "    \n",
    "    def img_add(self):\n",
    "        for class_, path in enumerate(self.path):\n",
    "            for image in os.listdir(path):\n",
    "                self.__bmw_data.append((self.img_redact(os.path.join(path,image)), class_))\n",
    "    \n",
    "    def get_data(self):\n",
    "        random.shuffle(self.__bmw_data)\n",
    "        return self.__bmw_data\n",
    "                \n",
    "            "
   ]
  },
  {
   "cell_type": "code",
   "execution_count": 22,
   "id": "c84b7982",
   "metadata": {},
   "outputs": [],
   "source": [
    "data = IMG_ACT(path_e46, path_f30)\n",
    "data.img_add()"
   ]
  },
  {
   "cell_type": "code",
   "execution_count": 23,
   "id": "7ab6e2ac",
   "metadata": {},
   "outputs": [],
   "source": [
    "x_train, x_test, y_train, y_test = train_test_split([data.get_data()[i][0] for i in range(len(data.get_data()))],\n",
    "                                                    [data.get_data()[i][1] for i in range(len(data.get_data()))],\n",
    "                                                    test_size=0.2)\n",
    "\n",
    "\n",
    "x_train_norm = [i / 255 for i in x_train]\n",
    "x_test_norm = [i / 255 for i in x_test]\n",
    "\n",
    "y_train_cat = keras.utils.to_categorical(y_train, 2)\n",
    "y_test_cat = keras.utils.to_categorical(y_test, 2)\n",
    "\n",
    "x_train_norm = np.expand_dims(x_train_norm, axis=3)\n",
    "x_test_norm = np.expand_dims(x_test_norm, axis=3)\n"
   ]
  },
  {
   "cell_type": "code",
   "execution_count": 32,
   "id": "7a8d1a7b",
   "metadata": {},
   "outputs": [],
   "source": [
    "model = keras.Sequential([\n",
    "    Conv2D(256, (32, 32), strides=(4, 4), padding='same', activation='relu', input_shape=(320, 460, 1)),\n",
    "    MaxPooling2D((2, 2), strides=2),\n",
    "    Conv2D(512, (4, 4), padding='same', activation='relu'),\n",
    "    MaxPooling2D((2, 2), strides=2),\n",
    "    Conv2D(1024, (2, 2), padding='same', activation='relu'),\n",
    "    MaxPooling2D((2, 2), strides=2),\n",
    "    Conv2D(512, (2, 2), padding='same', activation='relu'),\n",
    "    Flatten(),\n",
    "    Dense(256, activation='relu'),\n",
    "    # BatchNormalization(),\n",
    "    Dense(128, activation='relu'),\n",
    "    # Dropout(rate=0.45),\n",
    "    Dense(2, activation='softmax')\n",
    "])"
   ]
  },
  {
   "cell_type": "code",
   "execution_count": 33,
   "id": "b0403251",
   "metadata": {},
   "outputs": [
    {
     "name": "stdout",
     "output_type": "stream",
     "text": [
      "Model: \"sequential_2\"\n",
      "_________________________________________________________________\n",
      " Layer (type)                Output Shape              Param #   \n",
      "=================================================================\n",
      " conv2d_7 (Conv2D)           (None, 80, 115, 256)      262400    \n",
      "                                                                 \n",
      " max_pooling2d_5 (MaxPooling  (None, 40, 57, 256)      0         \n",
      " 2D)                                                             \n",
      "                                                                 \n",
      " conv2d_8 (Conv2D)           (None, 40, 57, 512)       2097664   \n",
      "                                                                 \n",
      " max_pooling2d_6 (MaxPooling  (None, 20, 28, 512)      0         \n",
      " 2D)                                                             \n",
      "                                                                 \n",
      " conv2d_9 (Conv2D)           (None, 20, 28, 1024)      2098176   \n",
      "                                                                 \n",
      " max_pooling2d_7 (MaxPooling  (None, 10, 14, 1024)     0         \n",
      " 2D)                                                             \n",
      "                                                                 \n",
      " conv2d_10 (Conv2D)          (None, 10, 14, 512)       2097664   \n",
      "                                                                 \n",
      " flatten_2 (Flatten)         (None, 71680)             0         \n",
      "                                                                 \n",
      " dense_6 (Dense)             (None, 256)               18350336  \n",
      "                                                                 \n",
      " dense_7 (Dense)             (None, 128)               32896     \n",
      "                                                                 \n",
      " dense_8 (Dense)             (None, 2)                 258       \n",
      "                                                                 \n",
      "=================================================================\n",
      "Total params: 24,939,394\n",
      "Trainable params: 24,939,394\n",
      "Non-trainable params: 0\n",
      "_________________________________________________________________\n"
     ]
    }
   ],
   "source": [
    "model.summary()"
   ]
  },
  {
   "cell_type": "code",
   "execution_count": 42,
   "id": "05a0e772",
   "metadata": {},
   "outputs": [],
   "source": [
    "model.compile(optimizer=keras.optimizers.SGD(learning_rate=0.001, momentum=0.1, nesterov=True),\n",
    "              loss='categorical_crossentropy',\n",
    "              metrics=['accuracy'])"
   ]
  },
  {
   "cell_type": "code",
   "execution_count": 43,
   "id": "da5cb641",
   "metadata": {},
   "outputs": [
    {
     "name": "stdout",
     "output_type": "stream",
     "text": [
      "Epoch 1/25\n",
      "8/8 [==============================] - 2s 254ms/step - loss: nan - accuracy: 0.4922 - val_loss: nan - val_accuracy: 0.4688\n",
      "Epoch 2/25\n",
      "8/8 [==============================] - 2s 230ms/step - loss: nan - accuracy: 0.4922 - val_loss: nan - val_accuracy: 0.4688\n",
      "Epoch 3/25\n",
      "8/8 [==============================] - 2s 229ms/step - loss: nan - accuracy: 0.4922 - val_loss: nan - val_accuracy: 0.4688\n",
      "Epoch 4/25\n",
      "8/8 [==============================] - 2s 230ms/step - loss: nan - accuracy: 0.4922 - val_loss: nan - val_accuracy: 0.4688\n",
      "Epoch 5/25\n",
      "8/8 [==============================] - 2s 229ms/step - loss: nan - accuracy: 0.4922 - val_loss: nan - val_accuracy: 0.4688\n",
      "Epoch 6/25\n",
      "8/8 [==============================] - 2s 231ms/step - loss: nan - accuracy: 0.4922 - val_loss: nan - val_accuracy: 0.4688\n",
      "Epoch 7/25\n",
      "8/8 [==============================] - 2s 229ms/step - loss: nan - accuracy: 0.4922 - val_loss: nan - val_accuracy: 0.4688\n",
      "Epoch 8/25\n",
      "8/8 [==============================] - 2s 229ms/step - loss: nan - accuracy: 0.4922 - val_loss: nan - val_accuracy: 0.4688\n",
      "Epoch 9/25\n",
      "8/8 [==============================] - 2s 231ms/step - loss: nan - accuracy: 0.4922 - val_loss: nan - val_accuracy: 0.4688\n",
      "Epoch 10/25\n",
      "8/8 [==============================] - 2s 232ms/step - loss: nan - accuracy: 0.4922 - val_loss: nan - val_accuracy: 0.4688\n",
      "Epoch 11/25\n",
      "8/8 [==============================] - 2s 232ms/step - loss: nan - accuracy: 0.4922 - val_loss: nan - val_accuracy: 0.4688\n",
      "Epoch 12/25\n",
      "8/8 [==============================] - 2s 231ms/step - loss: nan - accuracy: 0.4922 - val_loss: nan - val_accuracy: 0.4688\n",
      "Epoch 13/25\n",
      "8/8 [==============================] - 2s 231ms/step - loss: nan - accuracy: 0.4922 - val_loss: nan - val_accuracy: 0.4688\n",
      "Epoch 14/25\n",
      "8/8 [==============================] - 2s 231ms/step - loss: nan - accuracy: 0.4922 - val_loss: nan - val_accuracy: 0.4688\n",
      "Epoch 15/25\n",
      "8/8 [==============================] - 2s 232ms/step - loss: nan - accuracy: 0.4922 - val_loss: nan - val_accuracy: 0.4688\n",
      "Epoch 16/25\n",
      "8/8 [==============================] - 2s 231ms/step - loss: nan - accuracy: 0.4922 - val_loss: nan - val_accuracy: 0.4688\n",
      "Epoch 17/25\n",
      "8/8 [==============================] - 2s 233ms/step - loss: nan - accuracy: 0.4922 - val_loss: nan - val_accuracy: 0.4688\n",
      "Epoch 18/25\n",
      "8/8 [==============================] - 2s 231ms/step - loss: nan - accuracy: 0.4922 - val_loss: nan - val_accuracy: 0.4688\n",
      "Epoch 19/25\n",
      "8/8 [==============================] - 2s 230ms/step - loss: nan - accuracy: 0.4922 - val_loss: nan - val_accuracy: 0.4688\n",
      "Epoch 20/25\n",
      "8/8 [==============================] - 2s 232ms/step - loss: nan - accuracy: 0.4922 - val_loss: nan - val_accuracy: 0.4688\n",
      "Epoch 21/25\n",
      "8/8 [==============================] - 2s 236ms/step - loss: nan - accuracy: 0.4922 - val_loss: nan - val_accuracy: 0.4688\n",
      "Epoch 22/25\n",
      "8/8 [==============================] - 2s 236ms/step - loss: nan - accuracy: 0.4922 - val_loss: nan - val_accuracy: 0.4688\n",
      "Epoch 23/25\n",
      "8/8 [==============================] - 2s 245ms/step - loss: nan - accuracy: 0.4922 - val_loss: nan - val_accuracy: 0.4688\n",
      "Epoch 24/25\n",
      "8/8 [==============================] - 2s 242ms/step - loss: nan - accuracy: 0.4922 - val_loss: nan - val_accuracy: 0.4688\n",
      "Epoch 25/25\n",
      "8/8 [==============================] - 2s 239ms/step - loss: nan - accuracy: 0.4922 - val_loss: nan - val_accuracy: 0.4688\n"
     ]
    }
   ],
   "source": [
    "his = model.fit(x_train_norm, y_train_cat, batch_size=16, epochs=25, validation_split=0.2)"
   ]
  },
  {
   "cell_type": "code",
   "execution_count": 18,
   "id": "16253f54",
   "metadata": {},
   "outputs": [
    {
     "name": "stdout",
     "output_type": "stream",
     "text": [
      "2/2 [==============================] - 2s 438ms/step - loss: 0.7092 - accuracy: 0.4000\n"
     ]
    },
    {
     "data": {
      "text/plain": [
       "[0.7092181444168091, 0.4000000059604645]"
      ]
     },
     "execution_count": 18,
     "metadata": {},
     "output_type": "execute_result"
    }
   ],
   "source": [
    "model.evaluate(x_test_norm, y_test_cat)"
   ]
  },
  {
   "cell_type": "code",
   "execution_count": null,
   "id": "be0b610e",
   "metadata": {},
   "outputs": [],
   "source": []
  },
  {
   "cell_type": "code",
   "execution_count": null,
   "id": "4b3d3c8d",
   "metadata": {},
   "outputs": [],
   "source": []
  },
  {
   "cell_type": "code",
   "execution_count": null,
   "id": "c71282d6",
   "metadata": {},
   "outputs": [],
   "source": []
  }
 ],
 "metadata": {
  "kernelspec": {
   "display_name": "Python 3 (ipykernel)",
   "language": "python",
   "name": "python3"
  },
  "language_info": {
   "codemirror_mode": {
    "name": "ipython",
    "version": 3
   },
   "file_extension": ".py",
   "mimetype": "text/x-python",
   "name": "python",
   "nbconvert_exporter": "python",
   "pygments_lexer": "ipython3",
   "version": "3.9.13"
  }
 },
 "nbformat": 4,
 "nbformat_minor": 5
}
